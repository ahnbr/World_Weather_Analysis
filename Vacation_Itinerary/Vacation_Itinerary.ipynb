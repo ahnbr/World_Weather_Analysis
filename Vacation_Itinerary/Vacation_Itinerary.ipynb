{
 "cells": [
  {
   "cell_type": "markdown",
   "metadata": {},
   "source": [
    "## Deliverable 3. Create a Travel Itinerary Map."
   ]
  },
  {
   "cell_type": "code",
   "execution_count": 39,
   "metadata": {},
   "outputs": [],
   "source": [
    "# Dependencies and Setup\n",
    "import pandas as pd\n",
    "import requests\n",
    "import gmaps\n",
    "import numpy as np\n",
    "\n",
    "# Import API key\n",
    "from config import g_key\n",
    "\n",
    "# Configure gmaps\n",
    "gmaps.configure(api_key=g_key)"
   ]
  },
  {
   "cell_type": "code",
   "execution_count": 40,
   "metadata": {},
   "outputs": [
    {
     "data": {
      "text/html": [
       "<div>\n",
       "<style scoped>\n",
       "    .dataframe tbody tr th:only-of-type {\n",
       "        vertical-align: middle;\n",
       "    }\n",
       "\n",
       "    .dataframe tbody tr th {\n",
       "        vertical-align: top;\n",
       "    }\n",
       "\n",
       "    .dataframe thead th {\n",
       "        text-align: right;\n",
       "    }\n",
       "</style>\n",
       "<table border=\"1\" class=\"dataframe\">\n",
       "  <thead>\n",
       "    <tr style=\"text-align: right;\">\n",
       "      <th></th>\n",
       "      <th>City_ID</th>\n",
       "      <th>City_ID.1</th>\n",
       "      <th>City</th>\n",
       "      <th>Country</th>\n",
       "      <th>Date</th>\n",
       "      <th>Lat</th>\n",
       "      <th>Lng</th>\n",
       "      <th>Max Temp</th>\n",
       "      <th>Humidity</th>\n",
       "      <th>Cloudiness</th>\n",
       "      <th>Wind Speed</th>\n",
       "      <th>Current Description</th>\n",
       "      <th>Hotel Name</th>\n",
       "    </tr>\n",
       "  </thead>\n",
       "  <tbody>\n",
       "    <tr>\n",
       "      <th>0</th>\n",
       "      <td>0</td>\n",
       "      <td>0</td>\n",
       "      <td>Avarua</td>\n",
       "      <td>CK</td>\n",
       "      <td>2020-09-13 20:35:30</td>\n",
       "      <td>-21.21</td>\n",
       "      <td>-159.78</td>\n",
       "      <td>75.20</td>\n",
       "      <td>73</td>\n",
       "      <td>97</td>\n",
       "      <td>9.17</td>\n",
       "      <td>overcast clouds</td>\n",
       "      <td>Paradise Inn</td>\n",
       "    </tr>\n",
       "    <tr>\n",
       "      <th>1</th>\n",
       "      <td>2</td>\n",
       "      <td>2</td>\n",
       "      <td>Le Vauclin</td>\n",
       "      <td>MQ</td>\n",
       "      <td>2020-09-13 20:35:31</td>\n",
       "      <td>14.55</td>\n",
       "      <td>-60.84</td>\n",
       "      <td>81.00</td>\n",
       "      <td>88</td>\n",
       "      <td>32</td>\n",
       "      <td>3.36</td>\n",
       "      <td>mist</td>\n",
       "      <td>Hôtel Cap Macabou</td>\n",
       "    </tr>\n",
       "    <tr>\n",
       "      <th>2</th>\n",
       "      <td>4</td>\n",
       "      <td>4</td>\n",
       "      <td>Rikitea</td>\n",
       "      <td>PF</td>\n",
       "      <td>2020-09-13 20:35:31</td>\n",
       "      <td>-23.12</td>\n",
       "      <td>-134.97</td>\n",
       "      <td>73.58</td>\n",
       "      <td>84</td>\n",
       "      <td>0</td>\n",
       "      <td>13.62</td>\n",
       "      <td>clear sky</td>\n",
       "      <td>Pension Maro'i</td>\n",
       "    </tr>\n",
       "    <tr>\n",
       "      <th>3</th>\n",
       "      <td>9</td>\n",
       "      <td>9</td>\n",
       "      <td>Ribeira Grande</td>\n",
       "      <td>PT</td>\n",
       "      <td>2020-09-13 20:35:32</td>\n",
       "      <td>38.52</td>\n",
       "      <td>-28.70</td>\n",
       "      <td>73.40</td>\n",
       "      <td>83</td>\n",
       "      <td>40</td>\n",
       "      <td>14.99</td>\n",
       "      <td>scattered clouds</td>\n",
       "      <td>Quinta da Meia Eira</td>\n",
       "    </tr>\n",
       "    <tr>\n",
       "      <th>4</th>\n",
       "      <td>14</td>\n",
       "      <td>14</td>\n",
       "      <td>Sao Joao Del Rei</td>\n",
       "      <td>BR</td>\n",
       "      <td>2020-09-13 20:35:32</td>\n",
       "      <td>-21.14</td>\n",
       "      <td>-44.26</td>\n",
       "      <td>78.80</td>\n",
       "      <td>27</td>\n",
       "      <td>0</td>\n",
       "      <td>8.05</td>\n",
       "      <td>clear sky</td>\n",
       "      <td>Solara Hotel</td>\n",
       "    </tr>\n",
       "  </tbody>\n",
       "</table>\n",
       "</div>"
      ],
      "text/plain": [
       "   City_ID  City_ID.1              City Country                 Date    Lat  \\\n",
       "0        0          0            Avarua      CK  2020-09-13 20:35:30 -21.21   \n",
       "1        2          2        Le Vauclin      MQ  2020-09-13 20:35:31  14.55   \n",
       "2        4          4           Rikitea      PF  2020-09-13 20:35:31 -23.12   \n",
       "3        9          9    Ribeira Grande      PT  2020-09-13 20:35:32  38.52   \n",
       "4       14         14  Sao Joao Del Rei      BR  2020-09-13 20:35:32 -21.14   \n",
       "\n",
       "      Lng  Max Temp  Humidity  Cloudiness  Wind Speed Current Description  \\\n",
       "0 -159.78     75.20        73          97        9.17     overcast clouds   \n",
       "1  -60.84     81.00        88          32        3.36                mist   \n",
       "2 -134.97     73.58        84           0       13.62           clear sky   \n",
       "3  -28.70     73.40        83          40       14.99    scattered clouds   \n",
       "4  -44.26     78.80        27           0        8.05           clear sky   \n",
       "\n",
       "            Hotel Name  \n",
       "0         Paradise Inn  \n",
       "1    Hôtel Cap Macabou  \n",
       "2       Pension Maro'i  \n",
       "3  Quinta da Meia Eira  \n",
       "4         Solara Hotel  "
      ]
     },
     "execution_count": 40,
     "metadata": {},
     "output_type": "execute_result"
    }
   ],
   "source": [
    "# 1. Read the WeatherPy_vacation.csv into a DataFrame.\n",
    "vacation_df = pd.read_csv(\"Vacation_Search/WeatherPy_vacation.csv\")\n",
    "vacation_df.head()"
   ]
  },
  {
   "cell_type": "code",
   "execution_count": 43,
   "metadata": {},
   "outputs": [],
   "source": [
    "# 2. Using the template add the city name, the country code, the weather description and maximum temperature for the city.\n",
    "info_box_template = \"\"\"\n",
    "<dl>\n",
    "<dt>Hotel Name</dt><dd>{Hotel Name}</dd>\n",
    "<dt>City</dt><dd>{City}</dd>\n",
    "<dt>Country</dt><dd>{Country}</dd>\n",
    "<dt>Current Weather</dt><dd>{Current Description} & {Max Temp} °F</dd> \n",
    "</dl>\n",
    "\"\"\""
   ]
  },
  {
   "cell_type": "code",
   "execution_count": 44,
   "metadata": {},
   "outputs": [],
   "source": [
    "# 3a. Get the data from each row and add it to the formatting template and store the data in a list.\n",
    "hotel_info = [info_box_template.format(**row) for index, row in vacation_df.iterrows()]\n"
   ]
  },
  {
   "cell_type": "code",
   "execution_count": 45,
   "metadata": {},
   "outputs": [],
   "source": [
    "# 3b. Get the latitude and longitude from each row and store in a new DataFrame.\n",
    "locations = vacation_df[[\"Lat\", \"Lng\"]]"
   ]
  },
  {
   "cell_type": "code",
   "execution_count": 46,
   "metadata": {},
   "outputs": [
    {
     "data": {
      "application/vnd.jupyter.widget-view+json": {
       "model_id": "9dbb152f7ad74158bb33d4ad6af82ecf",
       "version_major": 2,
       "version_minor": 0
      },
      "text/plain": [
       "Figure(layout=FigureLayout(height='420px'))"
      ]
     },
     "metadata": {},
     "output_type": "display_data"
    }
   ],
   "source": [
    "# 4a. Add a marker layer for each city to the map.\n",
    "locations = vacation_df[[\"Lat\", \"Lng\"]]\n",
    "max_temp = vacation_df[\"Max Temp\"]\n",
    "weeahter_cond = vacation_df[\"Current Description\"]\n",
    "fig = gmaps.figure(center=(30.0, 31.0), zoom_level=1.5)\n",
    "heat_layer = gmaps.heatmap_layer(locations, weights=max_temp,dissipating=False,\n",
    "             max_intensity=300, point_radius=4)\n",
    "marker_layer = gmaps.marker_layer(locations, info_box_content=hotel_info)\n",
    "fig.add_layer(heat_layer)\n",
    "fig.add_layer(marker_layer)\n",
    "\n",
    "# 4b. Display the figure\n",
    "fig"
   ]
  },
  {
   "cell_type": "code",
   "execution_count": 47,
   "metadata": {},
   "outputs": [],
   "source": [
    "# From the map above pick 4 cities and create a vacation itinerary route to travel between the four cities. \n",
    "# 5. Create DataFrames for each city by filtering the 'vacation_df' using the loc method. \n",
    "# Hint: The starting and ending city should be the same city.\n",
    "\n",
    "#vacation_start = vacation_df.loc[\"Sisophon\"]\n",
    "#vacation_end = vacation_df.loc[\"Sisophon\"]\n",
    "#vacation_stop1 = vacation_df.loc[\"Lumphat\"]\n",
    "#vacation_stop2 = vacation_df.loc[\"Rach Gia\"] \n",
    "#vacation_stop3 = vacation_df.loc[\"Kampot\"] "
   ]
  },
  {
   "cell_type": "code",
   "execution_count": 48,
   "metadata": {},
   "outputs": [
    {
     "data": {
      "text/html": [
       "<div>\n",
       "<style scoped>\n",
       "    .dataframe tbody tr th:only-of-type {\n",
       "        vertical-align: middle;\n",
       "    }\n",
       "\n",
       "    .dataframe tbody tr th {\n",
       "        vertical-align: top;\n",
       "    }\n",
       "\n",
       "    .dataframe thead th {\n",
       "        text-align: right;\n",
       "    }\n",
       "</style>\n",
       "<table border=\"1\" class=\"dataframe\">\n",
       "  <thead>\n",
       "    <tr style=\"text-align: right;\">\n",
       "      <th></th>\n",
       "      <th>City_ID</th>\n",
       "      <th>City_ID.1</th>\n",
       "      <th>City</th>\n",
       "      <th>Country</th>\n",
       "      <th>Date</th>\n",
       "      <th>Lat</th>\n",
       "      <th>Lng</th>\n",
       "      <th>Max Temp</th>\n",
       "      <th>Humidity</th>\n",
       "      <th>Cloudiness</th>\n",
       "      <th>Wind Speed</th>\n",
       "      <th>Current Description</th>\n",
       "      <th>Hotel Name</th>\n",
       "    </tr>\n",
       "  </thead>\n",
       "  <tbody>\n",
       "    <tr>\n",
       "      <th>219</th>\n",
       "      <td>482</td>\n",
       "      <td>482</td>\n",
       "      <td>Sisophon</td>\n",
       "      <td>KH</td>\n",
       "      <td>2020-09-13 20:36:53</td>\n",
       "      <td>13.59</td>\n",
       "      <td>102.97</td>\n",
       "      <td>77.67</td>\n",
       "      <td>87</td>\n",
       "      <td>98</td>\n",
       "      <td>4.43</td>\n",
       "      <td>overcast clouds</td>\n",
       "      <td>Pyramid Hotel</td>\n",
       "    </tr>\n",
       "  </tbody>\n",
       "</table>\n",
       "</div>"
      ],
      "text/plain": [
       "     City_ID  City_ID.1      City Country                 Date    Lat     Lng  \\\n",
       "219      482        482  Sisophon      KH  2020-09-13 20:36:53  13.59  102.97   \n",
       "\n",
       "     Max Temp  Humidity  Cloudiness  Wind Speed Current Description  \\\n",
       "219     77.67        87          98        4.43     overcast clouds   \n",
       "\n",
       "        Hotel Name  \n",
       "219  Pyramid Hotel  "
      ]
     },
     "execution_count": 48,
     "metadata": {},
     "output_type": "execute_result"
    }
   ],
   "source": [
    "start_df = vacation_df.loc[vacation_df[\"City\"]==\"Sisophon\"]\n",
    "start_df"
   ]
  },
  {
   "cell_type": "code",
   "execution_count": 49,
   "metadata": {},
   "outputs": [
    {
     "data": {
      "text/html": [
       "<div>\n",
       "<style scoped>\n",
       "    .dataframe tbody tr th:only-of-type {\n",
       "        vertical-align: middle;\n",
       "    }\n",
       "\n",
       "    .dataframe tbody tr th {\n",
       "        vertical-align: top;\n",
       "    }\n",
       "\n",
       "    .dataframe thead th {\n",
       "        text-align: right;\n",
       "    }\n",
       "</style>\n",
       "<table border=\"1\" class=\"dataframe\">\n",
       "  <thead>\n",
       "    <tr style=\"text-align: right;\">\n",
       "      <th></th>\n",
       "      <th>City_ID</th>\n",
       "      <th>City_ID.1</th>\n",
       "      <th>City</th>\n",
       "      <th>Country</th>\n",
       "      <th>Date</th>\n",
       "      <th>Lat</th>\n",
       "      <th>Lng</th>\n",
       "      <th>Max Temp</th>\n",
       "      <th>Humidity</th>\n",
       "      <th>Cloudiness</th>\n",
       "      <th>Wind Speed</th>\n",
       "      <th>Current Description</th>\n",
       "      <th>Hotel Name</th>\n",
       "    </tr>\n",
       "  </thead>\n",
       "  <tbody>\n",
       "    <tr>\n",
       "      <th>219</th>\n",
       "      <td>482</td>\n",
       "      <td>482</td>\n",
       "      <td>Sisophon</td>\n",
       "      <td>KH</td>\n",
       "      <td>2020-09-13 20:36:53</td>\n",
       "      <td>13.59</td>\n",
       "      <td>102.97</td>\n",
       "      <td>77.67</td>\n",
       "      <td>87</td>\n",
       "      <td>98</td>\n",
       "      <td>4.43</td>\n",
       "      <td>overcast clouds</td>\n",
       "      <td>Pyramid Hotel</td>\n",
       "    </tr>\n",
       "  </tbody>\n",
       "</table>\n",
       "</div>"
      ],
      "text/plain": [
       "     City_ID  City_ID.1      City Country                 Date    Lat     Lng  \\\n",
       "219      482        482  Sisophon      KH  2020-09-13 20:36:53  13.59  102.97   \n",
       "\n",
       "     Max Temp  Humidity  Cloudiness  Wind Speed Current Description  \\\n",
       "219     77.67        87          98        4.43     overcast clouds   \n",
       "\n",
       "        Hotel Name  \n",
       "219  Pyramid Hotel  "
      ]
     },
     "execution_count": 49,
     "metadata": {},
     "output_type": "execute_result"
    }
   ],
   "source": [
    "end_df = vacation_df.loc[vacation_df[\"City\"]==\"Sisophon\"]\n",
    "end_df"
   ]
  },
  {
   "cell_type": "code",
   "execution_count": 50,
   "metadata": {},
   "outputs": [
    {
     "data": {
      "text/html": [
       "<div>\n",
       "<style scoped>\n",
       "    .dataframe tbody tr th:only-of-type {\n",
       "        vertical-align: middle;\n",
       "    }\n",
       "\n",
       "    .dataframe tbody tr th {\n",
       "        vertical-align: top;\n",
       "    }\n",
       "\n",
       "    .dataframe thead th {\n",
       "        text-align: right;\n",
       "    }\n",
       "</style>\n",
       "<table border=\"1\" class=\"dataframe\">\n",
       "  <thead>\n",
       "    <tr style=\"text-align: right;\">\n",
       "      <th></th>\n",
       "      <th>City_ID</th>\n",
       "      <th>City_ID.1</th>\n",
       "      <th>City</th>\n",
       "      <th>Country</th>\n",
       "      <th>Date</th>\n",
       "      <th>Lat</th>\n",
       "      <th>Lng</th>\n",
       "      <th>Max Temp</th>\n",
       "      <th>Humidity</th>\n",
       "      <th>Cloudiness</th>\n",
       "      <th>Wind Speed</th>\n",
       "      <th>Current Description</th>\n",
       "      <th>Hotel Name</th>\n",
       "    </tr>\n",
       "  </thead>\n",
       "  <tbody>\n",
       "    <tr>\n",
       "      <th>76</th>\n",
       "      <td>181</td>\n",
       "      <td>181</td>\n",
       "      <td>Lumphat</td>\n",
       "      <td>KH</td>\n",
       "      <td>2020-09-13 20:36:01</td>\n",
       "      <td>13.49</td>\n",
       "      <td>106.98</td>\n",
       "      <td>73.38</td>\n",
       "      <td>97</td>\n",
       "      <td>87</td>\n",
       "      <td>2.19</td>\n",
       "      <td>overcast clouds</td>\n",
       "      <td>Lumphat Homestay</td>\n",
       "    </tr>\n",
       "  </tbody>\n",
       "</table>\n",
       "</div>"
      ],
      "text/plain": [
       "    City_ID  City_ID.1     City Country                 Date    Lat     Lng  \\\n",
       "76      181        181  Lumphat      KH  2020-09-13 20:36:01  13.49  106.98   \n",
       "\n",
       "    Max Temp  Humidity  Cloudiness  Wind Speed Current Description  \\\n",
       "76     73.38        97          87        2.19     overcast clouds   \n",
       "\n",
       "          Hotel Name  \n",
       "76  Lumphat Homestay  "
      ]
     },
     "execution_count": 50,
     "metadata": {},
     "output_type": "execute_result"
    }
   ],
   "source": [
    "stop1_df = vacation_df.loc[vacation_df[\"City\"]==\"Lumphat\"]\n",
    "stop1_df"
   ]
  },
  {
   "cell_type": "code",
   "execution_count": 51,
   "metadata": {},
   "outputs": [
    {
     "data": {
      "text/html": [
       "<div>\n",
       "<style scoped>\n",
       "    .dataframe tbody tr th:only-of-type {\n",
       "        vertical-align: middle;\n",
       "    }\n",
       "\n",
       "    .dataframe tbody tr th {\n",
       "        vertical-align: top;\n",
       "    }\n",
       "\n",
       "    .dataframe thead th {\n",
       "        text-align: right;\n",
       "    }\n",
       "</style>\n",
       "<table border=\"1\" class=\"dataframe\">\n",
       "  <thead>\n",
       "    <tr style=\"text-align: right;\">\n",
       "      <th></th>\n",
       "      <th>City_ID</th>\n",
       "      <th>City_ID.1</th>\n",
       "      <th>City</th>\n",
       "      <th>Country</th>\n",
       "      <th>Date</th>\n",
       "      <th>Lat</th>\n",
       "      <th>Lng</th>\n",
       "      <th>Max Temp</th>\n",
       "      <th>Humidity</th>\n",
       "      <th>Cloudiness</th>\n",
       "      <th>Wind Speed</th>\n",
       "      <th>Current Description</th>\n",
       "      <th>Hotel Name</th>\n",
       "    </tr>\n",
       "  </thead>\n",
       "  <tbody>\n",
       "    <tr>\n",
       "      <th>166</th>\n",
       "      <td>375</td>\n",
       "      <td>375</td>\n",
       "      <td>Rach Gia</td>\n",
       "      <td>VN</td>\n",
       "      <td>2020-09-13 20:36:36</td>\n",
       "      <td>10.02</td>\n",
       "      <td>105.08</td>\n",
       "      <td>77.0</td>\n",
       "      <td>100</td>\n",
       "      <td>40</td>\n",
       "      <td>1.12</td>\n",
       "      <td>scattered clouds</td>\n",
       "      <td>Nhà Hàng Hòa Giang</td>\n",
       "    </tr>\n",
       "  </tbody>\n",
       "</table>\n",
       "</div>"
      ],
      "text/plain": [
       "     City_ID  City_ID.1      City Country                 Date    Lat     Lng  \\\n",
       "166      375        375  Rach Gia      VN  2020-09-13 20:36:36  10.02  105.08   \n",
       "\n",
       "     Max Temp  Humidity  Cloudiness  Wind Speed Current Description  \\\n",
       "166      77.0       100          40        1.12    scattered clouds   \n",
       "\n",
       "             Hotel Name  \n",
       "166  Nhà Hàng Hòa Giang  "
      ]
     },
     "execution_count": 51,
     "metadata": {},
     "output_type": "execute_result"
    }
   ],
   "source": [
    "stop2_df = vacation_df.loc[vacation_df[\"City\"]==\"Rach Gia\"]\n",
    "stop2_df"
   ]
  },
  {
   "cell_type": "code",
   "execution_count": 52,
   "metadata": {},
   "outputs": [
    {
     "data": {
      "text/html": [
       "<div>\n",
       "<style scoped>\n",
       "    .dataframe tbody tr th:only-of-type {\n",
       "        vertical-align: middle;\n",
       "    }\n",
       "\n",
       "    .dataframe tbody tr th {\n",
       "        vertical-align: top;\n",
       "    }\n",
       "\n",
       "    .dataframe thead th {\n",
       "        text-align: right;\n",
       "    }\n",
       "</style>\n",
       "<table border=\"1\" class=\"dataframe\">\n",
       "  <thead>\n",
       "    <tr style=\"text-align: right;\">\n",
       "      <th></th>\n",
       "      <th>City_ID</th>\n",
       "      <th>City_ID.1</th>\n",
       "      <th>City</th>\n",
       "      <th>Country</th>\n",
       "      <th>Date</th>\n",
       "      <th>Lat</th>\n",
       "      <th>Lng</th>\n",
       "      <th>Max Temp</th>\n",
       "      <th>Humidity</th>\n",
       "      <th>Cloudiness</th>\n",
       "      <th>Wind Speed</th>\n",
       "      <th>Current Description</th>\n",
       "      <th>Hotel Name</th>\n",
       "    </tr>\n",
       "  </thead>\n",
       "  <tbody>\n",
       "    <tr>\n",
       "      <th>125</th>\n",
       "      <td>298</td>\n",
       "      <td>298</td>\n",
       "      <td>Kampot</td>\n",
       "      <td>KH</td>\n",
       "      <td>2020-09-13 20:36:21</td>\n",
       "      <td>10.62</td>\n",
       "      <td>104.18</td>\n",
       "      <td>78.8</td>\n",
       "      <td>88</td>\n",
       "      <td>40</td>\n",
       "      <td>5.57</td>\n",
       "      <td>scattered clouds</td>\n",
       "      <td>Champa Lodge</td>\n",
       "    </tr>\n",
       "  </tbody>\n",
       "</table>\n",
       "</div>"
      ],
      "text/plain": [
       "     City_ID  City_ID.1    City Country                 Date    Lat     Lng  \\\n",
       "125      298        298  Kampot      KH  2020-09-13 20:36:21  10.62  104.18   \n",
       "\n",
       "     Max Temp  Humidity  Cloudiness  Wind Speed Current Description  \\\n",
       "125      78.8        88          40        5.57    scattered clouds   \n",
       "\n",
       "       Hotel Name  \n",
       "125  Champa Lodge  "
      ]
     },
     "execution_count": 52,
     "metadata": {},
     "output_type": "execute_result"
    }
   ],
   "source": [
    "stop3_df = vacation_df.loc[vacation_df[\"City\"]==\"Kampot\"]\n",
    "stop3_df"
   ]
  },
  {
   "cell_type": "code",
   "execution_count": 53,
   "metadata": {},
   "outputs": [
    {
     "data": {
      "text/html": [
       "<div>\n",
       "<style scoped>\n",
       "    .dataframe tbody tr th:only-of-type {\n",
       "        vertical-align: middle;\n",
       "    }\n",
       "\n",
       "    .dataframe tbody tr th {\n",
       "        vertical-align: top;\n",
       "    }\n",
       "\n",
       "    .dataframe thead th {\n",
       "        text-align: right;\n",
       "    }\n",
       "</style>\n",
       "<table border=\"1\" class=\"dataframe\">\n",
       "  <thead>\n",
       "    <tr style=\"text-align: right;\">\n",
       "      <th></th>\n",
       "      <th>City_ID</th>\n",
       "      <th>City_ID.1</th>\n",
       "      <th>City</th>\n",
       "      <th>Country</th>\n",
       "      <th>Date</th>\n",
       "      <th>Lat</th>\n",
       "      <th>Lng</th>\n",
       "      <th>Max Temp</th>\n",
       "      <th>Humidity</th>\n",
       "      <th>Cloudiness</th>\n",
       "      <th>Wind Speed</th>\n",
       "      <th>Current Description</th>\n",
       "      <th>Hotel Name</th>\n",
       "    </tr>\n",
       "  </thead>\n",
       "  <tbody>\n",
       "    <tr>\n",
       "      <th>76</th>\n",
       "      <td>181</td>\n",
       "      <td>181</td>\n",
       "      <td>Lumphat</td>\n",
       "      <td>KH</td>\n",
       "      <td>2020-09-13 20:36:01</td>\n",
       "      <td>13.49</td>\n",
       "      <td>106.98</td>\n",
       "      <td>73.38</td>\n",
       "      <td>97</td>\n",
       "      <td>87</td>\n",
       "      <td>2.19</td>\n",
       "      <td>overcast clouds</td>\n",
       "      <td>Lumphat Homestay</td>\n",
       "    </tr>\n",
       "    <tr>\n",
       "      <th>125</th>\n",
       "      <td>298</td>\n",
       "      <td>298</td>\n",
       "      <td>Kampot</td>\n",
       "      <td>KH</td>\n",
       "      <td>2020-09-13 20:36:21</td>\n",
       "      <td>10.62</td>\n",
       "      <td>104.18</td>\n",
       "      <td>78.80</td>\n",
       "      <td>88</td>\n",
       "      <td>40</td>\n",
       "      <td>5.57</td>\n",
       "      <td>scattered clouds</td>\n",
       "      <td>Champa Lodge</td>\n",
       "    </tr>\n",
       "    <tr>\n",
       "      <th>166</th>\n",
       "      <td>375</td>\n",
       "      <td>375</td>\n",
       "      <td>Rach Gia</td>\n",
       "      <td>VN</td>\n",
       "      <td>2020-09-13 20:36:36</td>\n",
       "      <td>10.02</td>\n",
       "      <td>105.08</td>\n",
       "      <td>77.00</td>\n",
       "      <td>100</td>\n",
       "      <td>40</td>\n",
       "      <td>1.12</td>\n",
       "      <td>scattered clouds</td>\n",
       "      <td>Nhà Hàng Hòa Giang</td>\n",
       "    </tr>\n",
       "    <tr>\n",
       "      <th>219</th>\n",
       "      <td>482</td>\n",
       "      <td>482</td>\n",
       "      <td>Sisophon</td>\n",
       "      <td>KH</td>\n",
       "      <td>2020-09-13 20:36:53</td>\n",
       "      <td>13.59</td>\n",
       "      <td>102.97</td>\n",
       "      <td>77.67</td>\n",
       "      <td>87</td>\n",
       "      <td>98</td>\n",
       "      <td>4.43</td>\n",
       "      <td>overcast clouds</td>\n",
       "      <td>Pyramid Hotel</td>\n",
       "    </tr>\n",
       "  </tbody>\n",
       "</table>\n",
       "</div>"
      ],
      "text/plain": [
       "     City_ID  City_ID.1      City Country                 Date    Lat     Lng  \\\n",
       "76       181        181   Lumphat      KH  2020-09-13 20:36:01  13.49  106.98   \n",
       "125      298        298    Kampot      KH  2020-09-13 20:36:21  10.62  104.18   \n",
       "166      375        375  Rach Gia      VN  2020-09-13 20:36:36  10.02  105.08   \n",
       "219      482        482  Sisophon      KH  2020-09-13 20:36:53  13.59  102.97   \n",
       "\n",
       "     Max Temp  Humidity  Cloudiness  Wind Speed Current Description  \\\n",
       "76      73.38        97          87        2.19     overcast clouds   \n",
       "125     78.80        88          40        5.57    scattered clouds   \n",
       "166     77.00       100          40        1.12    scattered clouds   \n",
       "219     77.67        87          98        4.43     overcast clouds   \n",
       "\n",
       "             Hotel Name  \n",
       "76     Lumphat Homestay  \n",
       "125        Champa Lodge  \n",
       "166  Nhà Hàng Hòa Giang  \n",
       "219       Pyramid Hotel  "
      ]
     },
     "execution_count": 53,
     "metadata": {},
     "output_type": "execute_result"
    }
   ],
   "source": [
    "cities = [\"Sisophon\", \"Lumphat\", \"Rach Gia\", \"Kampot\"]\n",
    "cities_trip_df = vacation_df.loc[(vacation_df[\"City\"].isin(cities))]\n",
    "cities_trip_df"
   ]
  },
  {
   "cell_type": "code",
   "execution_count": 54,
   "metadata": {},
   "outputs": [],
   "source": [
    "# 6. Get the latitude-longitude pairs as tuples from each city DataFrame using the to_numpy function and list indexing.\n",
    "start = \"Sisophon\"\n",
    "end = \"Sisophon\"\n",
    "stop1 = \"Lumphat\"\n",
    "stop2 = \"Rach Gia\"\n",
    "stop3 = \"Kampot\""
   ]
  },
  {
   "cell_type": "code",
   "execution_count": 55,
   "metadata": {},
   "outputs": [
    {
     "name": "stdout",
     "output_type": "stream",
     "text": [
      "Lumphat = (13.49,106.98)\n",
      "Kampot = (10.62,104.18)\n",
      "Rach Gia = (10.02,105.08)\n",
      "Sisophon = (13.59,102.97)\n"
     ]
    }
   ],
   "source": [
    "for index, row in cities_trip_df.iterrows():\n",
    "    # Get the latitude and longitude.\n",
    "    cit = row[\"City\"]\n",
    "    lat = row[\"Lat\"]\n",
    "    lng = row[\"Lng\"]\n",
    "\n",
    "  \n",
    "    print(f\"{cit} = ({lat},{lng})\")"
   ]
  },
  {
   "cell_type": "code",
   "execution_count": 80,
   "metadata": {
    "scrolled": true
   },
   "outputs": [
    {
     "data": {
      "application/vnd.jupyter.widget-view+json": {
       "model_id": "cc2840ba97e34a21969eef8196c6d297",
       "version_major": 2,
       "version_minor": 0
      },
      "text/plain": [
       "Figure(layout=FigureLayout(height='420px'))"
      ]
     },
     "metadata": {},
     "output_type": "display_data"
    }
   ],
   "source": [
    "# 7. Create a direction layer map using the start and end latitude-longitude pairs,\n",
    "# and stop1, stop2, and stop3 as the waypoints. The travel_mode should be \"DRIVING\", \"BICYCLING\", or \"WALKING\".\n",
    "\n",
    "start = (13.59, 102.97)\n",
    "end = (13.59, 102.97)\n",
    "stop1 = (13.49, 106.98)\n",
    "stop2 = (10.02, 105.08)\n",
    "stop3 = (13.49, 106.98)\n",
    "\n",
    "\n",
    "fig= gmaps.figure()\n",
    "\n",
    "cities_trip = gmaps.directions_layer(start, end, waypoints=[stop1, stop2, stop3], travel_mode='DRIVING',stroke_weight=3.0,stroke_color=\"blue\")\n",
    "fig.add_layer(cities_trip)\n",
    "\n",
    "fig"
   ]
  },
  {
   "cell_type": "code",
   "execution_count": 57,
   "metadata": {},
   "outputs": [
    {
     "data": {
      "text/plain": [
       "[     City_ID  City_ID.1      City Country                 Date    Lat     Lng  \\\n",
       " 219      482        482  Sisophon      KH  2020-09-13 20:36:53  13.59  102.97   \n",
       " \n",
       "      Max Temp  Humidity  Cloudiness  Wind Speed Current Description  \\\n",
       " 219     77.67        87          98        4.43     overcast clouds   \n",
       " \n",
       "         Hotel Name  \n",
       " 219  Pyramid Hotel  ,\n",
       "      City_ID  City_ID.1      City Country                 Date    Lat     Lng  \\\n",
       " 219      482        482  Sisophon      KH  2020-09-13 20:36:53  13.59  102.97   \n",
       " \n",
       "      Max Temp  Humidity  Cloudiness  Wind Speed Current Description  \\\n",
       " 219     77.67        87          98        4.43     overcast clouds   \n",
       " \n",
       "         Hotel Name  \n",
       " 219  Pyramid Hotel  ,\n",
       "     City_ID  City_ID.1     City Country                 Date    Lat     Lng  \\\n",
       " 76      181        181  Lumphat      KH  2020-09-13 20:36:01  13.49  106.98   \n",
       " \n",
       "     Max Temp  Humidity  Cloudiness  Wind Speed Current Description  \\\n",
       " 76     73.38        97          87        2.19     overcast clouds   \n",
       " \n",
       "           Hotel Name  \n",
       " 76  Lumphat Homestay  ,\n",
       "      City_ID  City_ID.1      City Country                 Date    Lat     Lng  \\\n",
       " 166      375        375  Rach Gia      VN  2020-09-13 20:36:36  10.02  105.08   \n",
       " \n",
       "      Max Temp  Humidity  Cloudiness  Wind Speed Current Description  \\\n",
       " 166      77.0       100          40        1.12    scattered clouds   \n",
       " \n",
       "              Hotel Name  \n",
       " 166  Nhà Hàng Hòa Giang  ,\n",
       "      City_ID  City_ID.1    City Country                 Date    Lat     Lng  \\\n",
       " 125      298        298  Kampot      KH  2020-09-13 20:36:21  10.62  104.18   \n",
       " \n",
       "      Max Temp  Humidity  Cloudiness  Wind Speed Current Description  \\\n",
       " 125      78.8        88          40        5.57    scattered clouds   \n",
       " \n",
       "        Hotel Name  \n",
       " 125  Champa Lodge  ]"
      ]
     },
     "execution_count": 57,
     "metadata": {},
     "output_type": "execute_result"
    }
   ],
   "source": [
    "# 8. To create a marker layer map between the four cities.\n",
    "#  Combine the four city DataFrames into one DataFrame using the concat() function.\n",
    "itinerary_df = [start_df, end_df, stop1_df, stop2_df, stop3_df]\n",
    "result = pd.concat(itinerary_df)\n",
    "itinerary_df"
   ]
  },
  {
   "cell_type": "code",
   "execution_count": 76,
   "metadata": {},
   "outputs": [],
   "source": [
    "# 9 Using the template add city name, the country code, the weather description and maximum temperature for the city. \n",
    "\n",
    "info_box_template = \"\"\"\n",
    "<dl>\n",
    "<dt>Hotel Name</dt><dd>{Hotel Name}</dd>\n",
    "<dt>City</dt><dd>{City}</dd>\n",
    "<dt>Country</dt><dd>{Country}</dd>\n",
    "<dt>Current Weather</dt><dd>{Current Description} & {Max Temp} °F</dd> \n",
    "</dl>\n",
    "\"\"\""
   ]
  },
  {
   "cell_type": "code",
   "execution_count": 77,
   "metadata": {},
   "outputs": [],
   "source": [
    "# 10a Get the data from each row and add it to the formatting template and store the data in a list.\n",
    "hotel_info = [info_box_template.format(**row) for index, row in cities_trip_df.iterrows()]"
   ]
  },
  {
   "cell_type": "code",
   "execution_count": 78,
   "metadata": {},
   "outputs": [],
   "source": [
    "# 10b. Get the latitude and longitude from each row and store in a new DataFrame.\n",
    "locations = cities_trip_df[[\"Lat\", \"Lng\"]]"
   ]
  },
  {
   "cell_type": "code",
   "execution_count": 79,
   "metadata": {},
   "outputs": [
    {
     "data": {
      "application/vnd.jupyter.widget-view+json": {
       "model_id": "99d37a1c9e0442f2b01eaf7522599699",
       "version_major": 2,
       "version_minor": 0
      },
      "text/plain": [
       "Figure(layout=FigureLayout(height='420px'))"
      ]
     },
     "metadata": {},
     "output_type": "display_data"
    }
   ],
   "source": [
    "# 11a. Add a marker layer for each city to the map.\n",
    "locations = cities_trip_df[[\"Lat\", \"Lng\"]]\n",
    "marker_layer = gmaps.marker_layer(locations, info_box_content=hotel_info)\n",
    "fig.add_layer(marker_layer)\n",
    "\n",
    "# 11b. Display the figure\n",
    "fig"
   ]
  },
  {
   "cell_type": "code",
   "execution_count": null,
   "metadata": {},
   "outputs": [],
   "source": []
  }
 ],
 "metadata": {
  "kernelspec": {
   "display_name": "PythonData",
   "language": "python",
   "name": "pythondata"
  },
  "language_info": {
   "codemirror_mode": {
    "name": "ipython",
    "version": 3
   },
   "file_extension": ".py",
   "mimetype": "text/x-python",
   "name": "python",
   "nbconvert_exporter": "python",
   "pygments_lexer": "ipython3",
   "version": "3.7.6"
  },
  "latex_envs": {
   "LaTeX_envs_menu_present": true,
   "autoclose": false,
   "autocomplete": true,
   "bibliofile": "biblio.bib",
   "cite_by": "apalike",
   "current_citInitial": 1,
   "eqLabelWithNumbers": true,
   "eqNumInitial": 1,
   "hotkeys": {
    "equation": "Ctrl-E",
    "itemize": "Ctrl-I"
   },
   "labels_anchors": false,
   "latex_user_defs": false,
   "report_style_numbering": false,
   "user_envs_cfg": false
  }
 },
 "nbformat": 4,
 "nbformat_minor": 2
}
